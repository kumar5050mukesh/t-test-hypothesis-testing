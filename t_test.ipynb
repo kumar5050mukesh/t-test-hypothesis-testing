{
 "cells": [
  {
   "cell_type": "code",
   "execution_count": null,
   "metadata": {},
   "outputs": [],
   "source": [
    "# Q1: What is Estimation Statistics? Explain point estimate and interval estimate.\n",
    "\"\"\"Estimation statistics deals with  estimation of unknown parameters of a population\n",
    "based on the information obtained from a sample.\n",
    "\n",
    "Point estimate refers to a single value that is used to estimate an unknown parameter of a population. For example,\n",
    " the sample mean can be used as a point estimate for the population mean.\n",
    "\n",
    "Interval estimate, on the other hand, refers to a range of values that is used to estimate an unknown parameter of \n",
    "a population. It provides an estimate of the possible range of values that the population parameter could take,\n",
    " \"\"\""
   ]
  },
  {
   "cell_type": "code",
   "execution_count": null,
   "metadata": {},
   "outputs": [],
   "source": [
    "# Q2. Write a Python function to estimate the population mean using a sample mean and standard\n",
    "# deviation.\n",
    "def e_p_mean(s_mean, s_std, s_size):\n",
    "    \n",
    "    import math\n",
    "    s_error = s_std / math.sqrt(s_size)\n",
    "    # margin_of_error = z * s_error\n",
    "    margin_of_error = 1.96 * s_error\n",
    "    l_bound = s_mean - margin_of_error\n",
    "    u_bound = s_mean+ margin_of_error\n",
    "    return (l_bound + u_bound) / 2\n"
   ]
  },
  {
   "cell_type": "code",
   "execution_count": null,
   "metadata": {},
   "outputs": [],
   "source": [
    "# Q3: What is Hypothesis testing? Why is it used? State the importance of Hypothesis testing.\n",
    "\"\"\"this is a statistical method used to determine whether a hypothesis about a population parameter is  correct or not\n",
    ". It involves making assumptions H(0) and H(a) about a population and collecting sample data to determine whether \n",
    "the data supports or contradicts the assumption.\n",
    "\n",
    " used in various fields such as science, medicine, social sciences, engineering, business, and \n",
    "more. \n",
    "\n",
    "The importance of hypothesis testing lies in its ability to make informed decisions based on data analysis. It helps\n",
    " in making conclusions about a population based on a sample of data. \n",
    "\n",
    "\n",
    "\n",
    "\n",
    "\n",
    "\n",
    "\"\"\""
   ]
  },
  {
   "cell_type": "code",
   "execution_count": null,
   "metadata": {},
   "outputs": [],
   "source": [
    "# Q4. Create a hypothesis that states whether the average weight of male college students is greater than\n",
    "# # the average weight of female college students.\n",
    "\"\"\"H(0): AVERAGE WEIGHT OF MALE STUDENT IS >= AVERAGE WEIGHT OF  FEMALE STUDENT\n",
    "H(1): AVERAGE WEIGHT OF FEMALE STUDENT< AVERAGE WEIGHT OF MALE STUDENT\"\"\"\n"
   ]
  },
  {
   "cell_type": "code",
   "execution_count": 24,
   "metadata": {},
   "outputs": [
    {
     "name": "stdout",
     "output_type": "stream",
     "text": [
      "Reject null hypothesis---> Population means are not equal.\n"
     ]
    }
   ],
   "source": [
    "# Q5. Write a Python script to conduct a hypothesis test on the difference between two population means,\n",
    "# given a sample from each population.\n",
    "\n",
    "import numpy as np\n",
    "from scipy.stats import ttest_ind\n",
    "\n",
    "sample1 = np.random.normal(loc=10, scale=2, size=100)\n",
    "sample2 = np.random.normal(loc=12, scale=2, size=100)\n",
    "\n",
    "\n",
    "(t_stat,p_value) = ttest_ind(sample1, sample2)\n",
    "if p_value < 0.05:\n",
    "    print(\"Reject null hypothesis---> Population means are not equal.\")\n",
    "else:\n",
    "    print(\"Fail to reject null hypothesis------> Population means are equal.\")\n"
   ]
  },
  {
   "cell_type": "code",
   "execution_count": null,
   "metadata": {},
   "outputs": [],
   "source": [
    "# Q6: What is a null and alternative hypothesis? Give some examples.\n",
    "\"\"\"A null hypothesis is a statistical hypothesis that assumes there is no significant difference between two or more groups\n",
    " or variables being compared.\n",
    "\n",
    "In hypothesis testing, researchers collect data to determine whether to reject or accept the null hypothesis.\n",
    "If the data collected is not significant, then the null hypothesis is accepted. However, if the data is significant,\n",
    "then the null hypothesis is rejected in favor of an alternative hypothesis.\n",
    "An alternative hypothesis is a statement that contradicts the null hypothesis and assumes that there is a significant\n",
    "difference or relationship between two or more variables in a population.\n",
    "H(O) There is no significant difference in the mean scores of two groups of students on a math exam.\n",
    "H(a) There is a significant difference in the mean scores of two groups of students on a math exam. \n",
    "\n",
    "\n",
    "H(0) There is no significant difference in the mean salaries of male and female employees in a company.\n",
    "H(a) There is a significant difference in the mean salaries of male and female employees in a company.\n",
    "     \n",
    "     \"\"\""
   ]
  },
  {
   "cell_type": "code",
   "execution_count": null,
   "metadata": {},
   "outputs": [],
   "source": [
    "# Q7: Write down the steps involved in hypothesis testing.\n",
    "\"\"\"Hypothesis testing is a statistical technique used to determine whether a hypothesis about a population parameter is\n",
    " supported by the available evidence. \n",
    "\n",
    "State the null and alternative hypotheses\n",
    "\n",
    "\n",
    "Choose a significance level\n",
    "The significance level (alpha) is the probability of rejecting the null hypothesis when it is true. It is typically set at 0.05 \n",
    "\n",
    "Select the appropriate test statistic\n",
    " t-tests, ANOVA, and chi-square\n",
    "\n",
    "Calculate the test statistic and p-value:\n",
    " \n",
    "\n",
    "Interpret the results:\n",
    "If the p-value is less than the significance level, we reject the null hypothesis and accept the alternative hypothesis. \n",
    "If the p-value is greater than the significance level, we fail to reject the null hypothesis.\n",
    "\n",
    "\n",
    "\n",
    "\n",
    "\"\"\""
   ]
  },
  {
   "cell_type": "code",
   "execution_count": null,
   "metadata": {},
   "outputs": [],
   "source": [
    "# Q8. Define p-value and explain its significance in hypothesis testing.\n",
    "\n",
    "\"\"\"we compare the p-value to the significance level (alpha) that we have set for the test. If the p-value is less than\n",
    " or equal to alpha, we reject the null hypothesis and conclude that there is evidence to support the alternative hypothesis. \n",
    " If the p-value is greater than alpha, we fail to reject the null hypothesis, and we do not have sufficient evidence to \n",
    " support the alternative hypothesis.\"\"\""
   ]
  },
  {
   "cell_type": "code",
   "execution_count": 7,
   "metadata": {},
   "outputs": [
    {
     "data": {
      "image/png": "[encoded data removed]",
      "text/plain": [
       "<Figure size 640x480 with 1 Axes>"
      ]
     },
     "metadata": {},
     "output_type": "display_data"
    }
   ],
   "source": [
    "# Q9. Generate a Student's t-distribution plot using Python's matplotlib library, with the degrees of freedom\n",
    "# parameter set to 10.\n",
    "\n",
    "import numpy as np\n",
    "import matplotlib.pyplot as plt\n",
    "df = 10\n",
    "x = np.linspace(-6, 6, 100)\n",
    "y = []*len(x)\n",
    "for i in range(len(x)):\n",
    "    z= (1 / (np.sqrt(2*np.pi) * np.sqrt(df))) * (np.power((1 + (x[i]**2 / df)), -(df+1)/2))\n",
    "    y.append(z)\n",
    "\n",
    "\n",
    "plt.plot(x, y)\n",
    "plt.title(\"t plot\")\n",
    "plt.xlabel('value of t')\n",
    "plt.ylabel('probility density')\n",
    "plt.show()\n"
   ]
  },
  {
   "cell_type": "code",
   "execution_count": 23,
   "metadata": {},
   "outputs": [
    {
     "name": "stdout",
     "output_type": "stream",
     "text": [
      "Reject null hypothesis---> Population means are not equal.\n"
     ]
    }
   ],
   "source": [
    "# Q10. Write a Python program to calculate the two-sample t-test for independent samples, given two\n",
    "# random samples of equal size and a null hypothesis that the population means are equal.\n",
    "import numpy as np\n",
    "from scipy.stats import ttest_ind\n",
    "\n",
    "sample1 = np.random.normal(loc=10, scale=2, size=100)\n",
    "sample2 = np.random.normal(loc=12, scale=2, size=100)\n",
    "\n",
    "\n",
    "(t_stat,p_value) = ttest_ind(sample1, sample2)\n",
    "if p_value < 0.05:\n",
    "    print(\"Reject null hypothesis---> Population means are not equal.\")\n",
    "else:\n",
    "    print(\"Fail to reject null hypothesis------> Population means are equal.\")\n",
    "\n"
   ]
  },
  {
   "cell_type": "code",
   "execution_count": null,
   "metadata": {},
   "outputs": [],
   "source": [
    "# Q11: What is Student’s t distribution? When to use the t-Distribution.\n",
    "\n",
    "\"\"\"Student’s t-distribution is a probability distribution that arises  where the sample size is small and the population\n",
    " standard deviation is unknown. \n",
    "\n",
    "\n",
    "The t-distribution is used in situations where the sample size is small and the population standard deviation is unknown.\n",
    "  the sample mean follows a t-distribution with n-1 degrees of freedom, where n is the sample size. \n",
    " used in hypothesis testing,  p-value, confidence interval estimation, the margin of error\n",
    "\n",
    "\n",
    "\n",
    "\n",
    "\n",
    "\"\"\"\n"
   ]
  },
  {
   "cell_type": "code",
   "execution_count": null,
   "metadata": {},
   "outputs": [],
   "source": [
    "# Q12: What is t-statistic? State the formula for t-statistic.\n",
    "\"\"\"T-statistic, also known as Student's t-statistic, is a measure used in hypothesis testing to determine if the\n",
    " difference between two sample means is significant. It is used when the population standard deviation is unknown \n",
    " and must be estimated from the sample data.\n",
    "\n",
    "\n",
    "t = (x̄₁ - x̄₂) / [s * sqrt(1/n₁ + 1/n₂)]\n",
    "\n",
    "\n",
    "x̄₁ and x̄₂ are the sample means of two independent samples being compared\n",
    "s is the pooled standard deviation, calculated as:\n",
    "s = sqrt(((n₁-1)*s₁² + (n₂-1)*s₂²) / (n₁ + n₂ - 2))\n",
    "n₁ and n₂ are the sample sizes of the two independent samples being compared\n",
    "sqrt is the square root function\n",
    "\n",
    "\n",
    "\"\"\""
   ]
  },
  {
   "cell_type": "code",
   "execution_count": 25,
   "metadata": {},
   "outputs": [
    {
     "name": "stdout",
     "output_type": "stream",
     "text": [
      "485.79015724388137\n",
      "514.2098427561186\n"
     ]
    }
   ],
   "source": [
    "# Q13. A coffee shop owner wants to estimate the average daily revenue for their shop. They take a random\n",
    "# sample of 50 days and find the sample mean revenue to be $500 with a standard deviation of $50.\n",
    "# Estimate the population mean revenue with a 95% confidence interval.\n",
    "import scipy.stats as stats\n",
    "import math\n",
    "s_mean = 500\n",
    "s_std = 50\n",
    "n = 50\n",
    "df = n - 1\n",
    "t_value = stats.t.ppf(0.975, df)\n",
    "std_error = s_std / math.sqrt(n)\n",
    "lower = s_mean - t_value * std_error\n",
    "upper = s_mean + t_value * std_error\n",
    "print(lower)\n",
    "print(upper)\n"
   ]
  },
  {
   "cell_type": "code",
   "execution_count": 42,
   "metadata": {},
   "outputs": [
    {
     "name": "stdout",
     "output_type": "stream",
     "text": [
      "Reject null hypothesis-----> The new drug decreases blood pressure by 10 mmHg.\n"
     ]
    }
   ],
   "source": [
    "# Q14. A researcher hypothesizes that a new drug will decrease blood pressure by 10 mmHg. They conduct a\n",
    "# clinical trial with 100 patients and find that the sample mean decrease in blood pressure is 8 mmHg with a\n",
    "# standard deviation of 3 mmHg. Test the hypothesis with a significance level of 0.05.\n",
    "\n",
    "\n",
    "\n",
    "\n",
    "\n",
    "import scipy.stats as stats\n",
    "\n",
    "\n",
    "n = 100  \n",
    "x_bar = 8 \n",
    "s = 3  \n",
    "mu = 10\n",
    "t = (x_bar - mu) / (s / (n ** 0.5))\n",
    "p = stats.t.sf(abs(t), df=n-1)\n",
    "\n",
    "\n",
    "if p<0.05:\n",
    "    print(\"Reject null hypothesis-----> The new drug decreases blood pressure by 10 mmHg.\")\n",
    "else:\n",
    "    print(\"Fail to reject null hypothesis------->The new drug does not decrease blood pressure by 10 mmHg.\")\n"
   ]
  },
  {
   "cell_type": "code",
   "execution_count": 47,
   "metadata": {},
   "outputs": [
    {
     "name": "stdout",
     "output_type": "stream",
     "text": [
      "Fail to reject null hypothesis------->\n"
     ]
    }
   ],
   "source": [
    "# Q15. An electronics company produces a certain type of product with a mean weight of 5 pounds and a\n",
    "# standard deviation of 0.5 pounds. A random sample of 25 products is taken, and the sample mean weight\n",
    "# is found to be 4.8 pounds. Test the hypothesis that the true mean weight of the products is less than 5\n",
    "# pounds with a significance level of 0.01.\n",
    "\n",
    "from scipy.stats import ttest_1samp\n",
    "\n",
    "\n",
    "\n",
    "\n",
    "n = 25  \n",
    "x_bar = 4.8 \n",
    "s = 0.5  \n",
    "mu = 5\n",
    "t = (x_bar - mu) / (s / (n ** 0.5))\n",
    "p = stats.t.sf(abs(t), df=n-1)\n",
    "\n",
    "\n",
    "if p<0.01:\n",
    "    print(\"Reject null hypothesis-----> true mean weight of the products is less than 5 pound\")\n",
    "else:\n",
    "    print(\"Fail to reject null hypothesis------->\")\n"
   ]
  },
  {
   "cell_type": "code",
   "execution_count": 48,
   "metadata": {},
   "outputs": [
    {
     "name": "stdout",
     "output_type": "stream",
     "text": [
      "Fail to reject the null hypothesis\n"
     ]
    }
   ],
   "source": [
    "# Q16. Two groups of students are given different study materials to prepare for a test. The first group (n1 =\n",
    "# 30) has a mean score of 80 with a standard deviation of 10, and the second group (n2 = 40) has a mean\n",
    "# score of 75 with a standard deviation of 8. Test the hypothesis that the population means for the two\n",
    "# groups are equal with a significance level of 0.01.\n",
    "\n",
    "import scipy.stats as stats\n",
    "\n",
    "\n",
    "n1 = 30\n",
    "x_bar1 = 80\n",
    "s1 = 10\n",
    "\n",
    "\n",
    "n2 = 40\n",
    "x_bar2 = 75\n",
    "s2 = 8\n",
    "\n",
    "\n",
    "s_pooled = ((n1 - 1) * s1 ** 2 + (n2 - 1) * s2 ** 2) / (n1 + n2 - 2) ** 0.5\n",
    "\n",
    "\n",
    "t_value = (x_bar1 - x_bar2) / (s_pooled * ((1 / n1) + (1 / n2))) ** 0.5\n",
    "\n",
    "\n",
    "df = n1 + n2 - 2\n",
    "\n",
    "\n",
    "p_value = stats.t.sf(abs(t_value), df) * 2\n",
    "\n",
    "\n",
    "if p_value < 0.01:\n",
    "    print(\"Reject the null hypothesis\")\n",
    "else:\n",
    "    print(\"Fail to reject the null hypothesis\")\n"
   ]
  },
  {
   "cell_type": "code",
   "execution_count": 49,
   "metadata": {},
   "outputs": [
    {
     "name": "stdout",
     "output_type": "stream",
     "text": [
      "3.4314963358572577\n",
      "4.568503664142742\n"
     ]
    }
   ],
   "source": [
    "\"\"\"Q17. A marketing company wants to estimate the average number of ads watched by viewers during a TV\n",
    "program. They take a random sample of 50 viewers and find that the sample mean is 4 with a standard\n",
    "deviation of 1.5. Estimate the population mean with a 99% confidence interval.\"\"\"\n",
    "\n",
    "\n",
    "import scipy.stats as stats\n",
    "import math\n",
    "\n",
    "\n",
    "sample_mean = 4\n",
    "\n",
    "\n",
    "sample_std = 1.5\n",
    "\n",
    "\n",
    "n = 50\n",
    "\n",
    "\n",
    "df = n - 1\n",
    "\n",
    "\n",
    "t_value = stats.t.ppf(0.995, df)\n",
    "\n",
    "\n",
    "std_error = sample_std / math.sqrt(n)\n",
    "\n",
    "\n",
    "lower_ci = sample_mean - t_value * std_error\n",
    "upper_ci = sample_mean + t_value * std_error\n",
    "\n",
    "\n",
    "\n",
    "print(lower_ci)\n",
    "print(upper_ci)\n"
   ]
  },
  {
   "cell_type": "code",
   "execution_count": null,
   "metadata": {},
   "outputs": [],
   "source": [
    "\"\"\"In a one-tailed test, the alternative hypothesis is directional, meaning it specifies a particular direction \n",
    "of effect. For example, the alternative hypothesis for a one-tailed test might be \"the mean is greater than X\"\n",
    " or \"the mean is lessthan X\", where X is some value.\n",
    "\n",
    "In a two-tailed test, the alternative hypothesis is non-directional, meaning it specifies that the effect could go in \n",
    "either direction. For example, the alternative hypothesis for a two-tailed test might be \"the mean is not equal to X\",\n",
    " where X is some value.\"\"\""
   ]
  }
 ],
 "metadata": {
  "kernelspec": {
   "display_name": "Python 3",
   "language": "python",
   "name": "python3"
  },
  "language_info": {
   "codemirror_mode": {
    "name": "ipython",
    "version": 3
   },
   "file_extension": ".py",
   "mimetype": "text/x-python",
   "name": "python",
   "nbconvert_exporter": "python",
   "pygments_lexer": "ipython3",
   "version": "3.11.2"
  },
  "orig_nbformat": 4
 },
 "nbformat": 4,
 "nbformat_minor": 2
}
